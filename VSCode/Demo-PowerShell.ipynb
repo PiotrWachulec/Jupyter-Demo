{
 "cells": [
  {
   "cell_type": "code",
   "execution_count": 1,
   "metadata": {
    "dotnet_interactive": {
     "language": "pwsh"
    },
    "polyglot_notebook": {
     "kernelName": "pwsh"
    }
   },
   "outputs": [
    {
     "name": "stdout",
     "output_type": "stream",
     "text": [
      "\u001b[93mWARNING: TenantId 'f82b557d-79f8-4f75-8cfe-96847cd44a6a' contains more than one active subscription. First one will be selected for further use. To select another subscription, use Set-AzContext. \n",
      "To override which subscription Connect-AzAccount selects by default, use `Update-AzConfig -DefaultSubscriptionForLogin 00000000-0000-0000-0000-000000000000`. Go to https://go.microsoft.com/fwlink/?linkid=2200610 for more information.\u001b[0m\n",
      "\n",
      "\u001b[32;1;3mAccount               \u001b[0m \u001b[32;1;3mSubscriptionName\u001b[0m \u001b[32;1;3mTenantId                            \u001b[0m \u001b[32;1;3mEnvironment\u001b[0m\n",
      "\u001b[32;1m-------               \u001b[0m \u001b[32;1m----------------\u001b[0m \u001b[32;1m--------                            \u001b[0m \u001b[32;1m-----------\u001b[0m\n",
      "piotr@demo.wachulec.me PAYG-01          f82b557d-79f8-4f75-8cfe-96847cd44a6a AzureCloud\n",
      "\n"
     ]
    }
   ],
   "source": [
    "Connect-AzAccount"
   ]
  },
  {
   "cell_type": "code",
   "execution_count": 2,
   "metadata": {
    "dotnet_interactive": {
     "language": "pwsh"
    },
    "polyglot_notebook": {
     "kernelName": "pwsh"
    }
   },
   "outputs": [
    {
     "name": "stdout",
     "output_type": "stream",
     "text": [
      "Module AzTable is already installed.\n"
     ]
    }
   ],
   "source": [
    "$moduleName = \"AzTable\"\n",
    "\n",
    "# Check if the module is already installed\n",
    "$moduleInstalled = Get-Module -ListAvailable | Where-Object { $_.Name -eq $moduleName }\n",
    "\n",
    "if ($moduleInstalled) {\n",
    "    Write-Output \"Module $moduleName is already installed.\"\n",
    "} else {\n",
    "    Write-Output \"Module $moduleName is not installed. Installing...\"\n",
    "    Install-Module -Name $moduleName -Force\n",
    "}\n"
   ]
  },
  {
   "cell_type": "code",
   "execution_count": 4,
   "metadata": {
    "dotnet_interactive": {
     "language": "pwsh"
    },
    "polyglot_notebook": {
     "kernelName": "pwsh"
    }
   },
   "outputs": [],
   "source": [
    "# Set the Azure storage account, resource group and table name\n",
    "$storageAccountName = \"jupytersa\"\n",
    "$resourceGroupName = \"jupyter-demo\"\n",
    "$tableName = \"LandingZonesInfo\"\n",
    "\n",
    "# Get the table reference\n",
    "$storageAccount = Get-AzStorageAccount -ResourceGroupName $resourceGroupName -Name $storageAccountName\n",
    "$storageContext = $storageAccount.Context\n",
    "$table = (Get-AzStorageTable -Name $tableName -Context $storageContext).CloudTable\n",
    "\n",
    "# Retrieve all rows from the table\n",
    "$landingZonesInfo = Get-AzTableRow -Table $table"
   ]
  },
  {
   "cell_type": "code",
   "execution_count": 5,
   "metadata": {
    "dotnet_interactive": {
     "language": "pwsh"
    },
    "polyglot_notebook": {
     "kernelName": "pwsh"
    }
   },
   "outputs": [
    {
     "name": "stdout",
     "output_type": "stream",
     "text": [
      "\n",
      "\u001b[32;1mLandingZoneOwner       : \u001b[0mjane.doe@abcxyz.io\n",
      "\u001b[32;1mReaderRoleGroupId      : \u001b[0mbb8d73de-5bca-4c5f-9562-12b3ef7c6ec0\n",
      "\u001b[32;1mContributorRoleGroupId : \u001b[0m8a3e28b3-ea86-4b7e-b5cb-0f93c0eb20af\n",
      "\u001b[32;1mCreationDate           : \u001b[0m2024-01-02T05:25:40.000Z\n",
      "\u001b[32;1mPartitionKey           : \u001b[0mapac\n",
      "\u001b[32;1mRowKey                 : \u001b[0m0a9c56ec-0a20-4ce4-9e8d-f6faa53a6bdb\n",
      "\u001b[32;1mTableTimestamp         : \u001b[0m1/29/2024 6:27:37 AM +01:00\n",
      "\u001b[32;1mEtag                   : \u001b[0mW/\"datetime'2024-01-29T05%3A27%3A37.3865476Z'\"\n",
      "\n",
      "\u001b[32;1mContributorRoleGroupId : \u001b[0m2e11a290-5949-4298-b432-c754d34cb78c\n",
      "\u001b[32;1mCreationDate           : \u001b[0m2024-01-07T05:25:40.000Z\n",
      "\u001b[32;1mLandingZoneOwner       : \u001b[0mjohn.doe@abcxyz.io\n",
      "\u001b[32;1mReaderRoleGroupId      : \u001b[0m7ad4eff6-e832-41d0-8687-85a76d1d6ae1\n",
      "\u001b[32;1mPartitionKey           : \u001b[0memea\n",
      "\u001b[32;1mRowKey                 : \u001b[0m88a99f8e-abc3-4f87-b5d1-6582ecf72501\n",
      "\u001b[32;1mTableTimestamp         : \u001b[0m1/29/2024 6:27:45 AM +01:00\n",
      "\u001b[32;1mEtag                   : \u001b[0mW/\"datetime'2024-01-29T05%3A27%3A45.8385044Z'\"\n",
      "\n"
     ]
    }
   ],
   "source": [
    "# Display the retrieved rows\n",
    "$landingZonesInfo"
   ]
  },
  {
   "cell_type": "code",
   "execution_count": 6,
   "metadata": {
    "dotnet_interactive": {
     "language": "pwsh"
    },
    "polyglot_notebook": {
     "kernelName": "pwsh"
    }
   },
   "outputs": [
    {
     "name": "stdout",
     "output_type": "stream",
     "text": [
      "\n",
      "\u001b[32;1mName   \u001b[0m\u001b[32;1m Id                                  \u001b[0m\u001b[32;1m TenantId                            \u001b[0m\u001b[32;1m State\u001b[0m\n",
      "\u001b[32;1m----   \u001b[0m \u001b[32;1m--                                  \u001b[0m \u001b[32;1m--------                            \u001b[0m \u001b[32;1m-----\u001b[0m\n",
      "PAYG-01 88a99f8e-abc3-4f87-b5d1-6582ecf72501 f82b557d-79f8-4f75-8cfe-96847cd44a6a Enabled\n",
      "PAYG-02 0a9c56ec-0a20-4ce4-9e8d-f6faa53a6bdb f82b557d-79f8-4f75-8cfe-96847cd44a6a Enabled\n",
      "\n"
     ]
    }
   ],
   "source": [
    "$subscriptions = Get-AzSubscription\n",
    "$subscriptions"
   ]
  },
  {
   "cell_type": "code",
   "execution_count": 8,
   "metadata": {
    "dotnet_interactive": {
     "language": "pwsh"
    },
    "polyglot_notebook": {
     "kernelName": "pwsh"
    }
   },
   "outputs": [
    {
     "name": "stdout",
     "output_type": "stream",
     "text": [
      "\n",
      "\u001b[32;1mLandingZoneOwner       : \u001b[0mjane.doe@abcxyz.io\n",
      "\u001b[32;1mReaderRoleGroupId      : \u001b[0mbb8d73de-5bca-4c5f-9562-12b3ef7c6ec0\n",
      "\u001b[32;1mContributorRoleGroupId : \u001b[0m8a3e28b3-ea86-4b7e-b5cb-0f93c0eb20af\n",
      "\u001b[32;1mCreationDate           : \u001b[0m2024-01-02T05:25:40.000Z\n",
      "\u001b[32;1mPartitionKey           : \u001b[0mapac\n",
      "\u001b[32;1mRowKey                 : \u001b[0m0a9c56ec-0a20-4ce4-9e8d-f6faa53a6bdb\n",
      "\u001b[32;1mTableTimestamp         : \u001b[0m1/29/2024 6:27:37 AM +01:00\n",
      "\u001b[32;1mEtag                   : \u001b[0mW/\"datetime'2024-01-29T05%3A27%3A37.3865476Z'\"\n",
      "\u001b[32;1mName                   : \u001b[0mPAYG-02\n",
      "\n",
      "\u001b[32;1mContributorRoleGroupId : \u001b[0m2e11a290-5949-4298-b432-c754d34cb78c\n",
      "\u001b[32;1mCreationDate           : \u001b[0m2024-01-07T05:25:40.000Z\n",
      "\u001b[32;1mLandingZoneOwner       : \u001b[0mjohn.doe@abcxyz.io\n",
      "\u001b[32;1mReaderRoleGroupId      : \u001b[0m7ad4eff6-e832-41d0-8687-85a76d1d6ae1\n",
      "\u001b[32;1mPartitionKey           : \u001b[0memea\n",
      "\u001b[32;1mRowKey                 : \u001b[0m88a99f8e-abc3-4f87-b5d1-6582ecf72501\n",
      "\u001b[32;1mTableTimestamp         : \u001b[0m1/29/2024 6:27:45 AM +01:00\n",
      "\u001b[32;1mEtag                   : \u001b[0mW/\"datetime'2024-01-29T05%3A27%3A45.8385044Z'\"\n",
      "\u001b[32;1mName                   : \u001b[0mPAYG-01\n",
      "\n"
     ]
    }
   ],
   "source": [
    "$landingZonesFullInfo = $null\n",
    "\n",
    "# Create the connected array\n",
    "$landingZonesFullInfo = $landingZonesInfo | ForEach-Object {\n",
    "    $landingZoneInfo = $_\n",
    "    $subscription = $subscriptions | Where-Object { $_.Id -eq $landingZoneInfo.RowKey }\n",
    "    $landingZoneInfo | Select-Object *, @{ Name = 'Name'; Expression = { $subscription.Name } }\n",
    "}\n",
    "\n",
    "# Display the connected array\n",
    "$landingZonesFullInfo"
   ]
  }
 ],
 "metadata": {
  "kernelspec": {
   "display_name": ".NET (C#)",
   "language": "C#",
   "name": ".net-csharp"
  },
  "language_info": {
   "name": "polyglot-notebook"
  },
  "polyglot_notebook": {
   "kernelInfo": {
    "defaultKernelName": "csharp",
    "items": [
     {
      "aliases": [],
      "name": "csharp"
     }
    ]
   }
  }
 },
 "nbformat": 4,
 "nbformat_minor": 2
}
