{
 "cells": [
  {
   "cell_type": "code",
   "execution_count": 10,
   "id": "af8832f7",
   "metadata": {
    "dotnet_interactive": {
     "language": "powershell"
    },
    "polyglot_notebook": {
     "kernelName": "powershell"
    },
    "vscode": {
     "languageId": "polyglot-notebook"
    }
   },
   "outputs": [
    {
     "name": "stdout",
     "output_type": "stream",
     "text": [
      "\u001b[93mWARNING: TenantId 'f82b557d-79f8-4f75-8cfe-96847cd44a6a' contains more than one active subscription. First one will be selected for further use. To select another subscription, use Set-AzContext. \n",
      "To override which subscription Connect-AzAccount selects by default, use `Update-AzConfig -DefaultSubscriptionForLogin 00000000-0000-0000-0000-000000000000`. Go to https://go.microsoft.com/fwlink/?linkid=2200610 for more information.\u001b[0m\n",
      "\n",
      "\u001b[32;1;3mAccount               \u001b[0m \u001b[32;1;3mSubscriptionName\u001b[0m \u001b[32;1;3mTenantId                            \u001b[0m \u001b[32;1;3mEnvironment\u001b[0m\n",
      "\u001b[32;1m-------               \u001b[0m \u001b[32;1m----------------\u001b[0m \u001b[32;1m--------                            \u001b[0m \u001b[32;1m-----------\u001b[0m\n",
      "piotr@demo.wachulec.me PAYG-01          f82b557d-79f8-4f75-8cfe-96847cd44a6a AzureCloud\n",
      "\n"
     ]
    }
   ],
   "source": [
    "Connect-AzAccount"
   ]
  },
  {
   "cell_type": "code",
   "execution_count": 11,
   "id": "48a6a929",
   "metadata": {
    "dotnet_interactive": {
     "language": "powershell"
    },
    "polyglot_notebook": {
     "kernelName": "powershell"
    },
    "vscode": {
     "languageId": "polyglot-notebook"
    }
   },
   "outputs": [
    {
     "name": "stdout",
     "output_type": "stream",
     "text": [
      "\n",
      "\u001b[32;1mName   \u001b[0m\u001b[32;1m Id                                  \u001b[0m\u001b[32;1m TenantId                            \u001b[0m\u001b[32;1m State\u001b[0m\n",
      "\u001b[32;1m----   \u001b[0m \u001b[32;1m--                                  \u001b[0m \u001b[32;1m--------                            \u001b[0m \u001b[32;1m-----\u001b[0m\n",
      "PAYG-01 88a99f8e-abc3-4f87-b5d1-6582ecf72501 f82b557d-79f8-4f75-8cfe-96847cd44a6a Enabled\n",
      "PAYG-02 0a9c56ec-0a20-4ce4-9e8d-f6faa53a6bdb f82b557d-79f8-4f75-8cfe-96847cd44a6a Enabled\n",
      "\n"
     ]
    }
   ],
   "source": [
    "Get-AzSubscription"
   ]
  },
  {
   "cell_type": "code",
   "execution_count": 12,
   "id": "e6ebf6d5",
   "metadata": {
    "dotnet_interactive": {
     "language": "powershell"
    },
    "polyglot_notebook": {
     "kernelName": "powershell"
    },
    "vscode": {
     "languageId": "polyglot-notebook"
    }
   },
   "outputs": [
    {
     "name": "stdout",
     "output_type": "stream",
     "text": [
      "\n",
      "\u001b[32;1mName                                    \u001b[0m\u001b[32;1m Account       \u001b[0m \u001b[32;1;3mSubscriptionNa\u001b[0m\u001b[32;1m Environment   \u001b[0m \u001b[32;1;3mTenantId\u001b[0m\n",
      "\u001b[32;1m                                        \u001b[0m\u001b[32;1m               \u001b[0m \u001b[32;1;3mme\u001b[0m\u001b[32;1m\u001b[0m\u001b[0m\n",
      "\u001b[32;1m----                                    \u001b[0m \u001b[32;1m-------       \u001b[0m \u001b[32;1m--------------\u001b[0m \u001b[32;1m-----------   \u001b[0m \u001b[32;1m--------\u001b[0m\n",
      "PAYG-01 (88a99f8e-abc3-4f87-b5d1-6582ec… piotr@demo.wa… PAYG-01        AzureCloud     f82b557d-79f…\n",
      "\n"
     ]
    }
   ],
   "source": [
    "Get-AzContext"
   ]
  },
  {
   "cell_type": "code",
   "execution_count": 13,
   "id": "3e1065ab",
   "metadata": {
    "dotnet_interactive": {
     "language": "powershell"
    },
    "polyglot_notebook": {
     "kernelName": "powershell"
    },
    "vscode": {
     "languageId": "polyglot-notebook"
    }
   },
   "outputs": [
    {
     "name": "stdout",
     "output_type": "stream",
     "text": [
      "\n",
      "\u001b[32;1mName      \u001b[0m \u001b[32;1;3mResource Manager Url         \u001b[0m \u001b[32;1;3mActiveDirectory Authority        \u001b[0m\u001b[32;1m Type\u001b[0m\n",
      "\u001b[32;1m----      \u001b[0m \u001b[32;1m--------------------         \u001b[0m \u001b[32;1m-------------------------        \u001b[0m \u001b[32;1m----\u001b[0m\n",
      "AzureCloud https://management.azure.com/ https://login.microsoftonline.com Discovered\n",
      "\n"
     ]
    }
   ],
   "source": [
    "$cont = Get-AzContext\n",
    "$cont.Environment"
   ]
  },
  {
   "cell_type": "code",
   "execution_count": 14,
   "metadata": {
    "dotnet_interactive": {
     "language": "csharp"
    },
    "polyglot_notebook": {
     "kernelName": "csharp"
    },
    "vscode": {
     "languageId": "polyglot-notebook"
    }
   },
   "outputs": [],
   "source": [
    "#!set --value @pwsh:cont --name contCS\n"
   ]
  },
  {
   "cell_type": "code",
   "execution_count": 15,
   "id": "a8ef1b45",
   "metadata": {
    "vscode": {
     "languageId": "polyglot-notebook"
    }
   },
   "outputs": [
    {
     "name": "stdout",
     "output_type": "stream",
     "text": [
      "{\"Name\":\"PAYG-01 (88a99f8e-abc3-4f87-b5d1-6582ecf72501) - f82b557d-79f8-4f75-8cfe-96847cd44a6a - piotr@demo.wachulec.me\",\"Account\":{\"Id\":\"piotr@demo.wachulec.me\",\"Type\":\"User\",\"TenantMap\":{},\"ExtendedProperties\":{\"Tenants\":\"f82b557d-79f8-4f75-8cfe-96847cd44a6a\",\"HomeAccountId\":\"11634d43-20ce-4dc7-bf33-ba50b5d91fdb.f82b557d-79f8-4f75-8cfe-96847cd44a6a\",\"Subscriptions\":\"88a99f8e-abc3-4f87-b5d1-6582ecf72501,0a9c56ec-0a20-4ce4-9e8d-f6faa53a6bdb\"}},\"Environment\":{\"Name\":\"AzureCloud\",\"OnPremise\":false,\"ServiceManagementUrl\":\"https://management.core.windows.net/\",\"ResourceManagerUrl\":\"https://management.azure.com/\",\"ManagementPortalUrl\":\"https://portal.azure.com\",\"PublishSettingsFileUrl\":\"https://go.microsoft.com/fwlink/?LinkID=301775\",\"ActiveDirectoryAuthority\":\"https://login.microsoftonline.com\",\"GraphUrl\":\"https://graph.windows.net/\",\"ActiveDirectoryServiceEndpointResourceId\":\"https://management.core.windows.net/\",\"StorageEndpointSuffix\":\"core.windows.net\",\"SqlDatabaseDnsSuffix\":\".database.windows.net\",\"TrafficManagerDnsSuffix\":\"trafficmanager.net\",\"AzureKeyVaultDnsSuffix\":\"vault.azure.net\",\"AzureKeyVaultServiceEndpointResourceId\":\"https://vault.azure.net\",\"GraphEndpointResourceId\":\"https://graph.windows.net/\",\"DataLakeEndpointResourceId\":\"https://datalake.azure.net/\",\"BatchEndpointResourceId\":\"https://batch.core.windows.net/\",\"AzureDataLakeAnalyticsCatalogAndJobEndpointSuffix\":\"azuredatalakeanalytics.net\",\"AzureDataLakeStoreFileSystemEndpointSuffix\":\"azuredatalakestore.net\",\"AdTenant\":\"common\",\"VersionProfiles\":[],\"ContainerRegistryEndpointSuffix\":\"azurecr.io\",\"ExtendedProperties\":{\"ManagedHsmServiceEndpointResourceId\":\"https://managedhsm.azure.net\",\"ContainerRegistryEndpointResourceId\":\"https://management.azure.com\",\"AzureAppConfigurationEndpointResourceId\":\"https://azconfig.io\",\"AzurePurviewEndpointSuffix\":\"purview.azure.net\",\"ManagedHsmServiceEndpointSuffix\":\"managedhsm.azure.net\",\"MicrosoftGraphUrl\":\"https://graph.microsoft.com\",\"AzureAttestationServiceEndpointSuffix\":\"attest.azure.net\",\"AzureSynapseAnalyticsEndpointSuffix\":\"dev.azuresynapse.net\",\"AzureAnalysisServicesEndpointSuffix\":\"asazure.windows.net\",\"AzureSynapseAnalyticsEndpointResourceId\":\"https://dev.azuresynapse.net\",\"OperationalInsightsEndpointResourceId\":\"https://api.loganalytics.io\",\"AnalysisServicesEndpointResourceId\":\"https://region.asazure.windows.net\",\"AzurePurviewEndpointResourceId\":\"https://purview.azure.net\",\"AzureAppConfigurationEndpointSuffix\":\"azconfig.io\",\"AzureAttestationServiceEndpointResourceId\":\"https://attest.azure.net\",\"MicrosoftGraphEndpointResourceId\":\"https://graph.microsoft.com/\",\"OperationalInsightsEndpoint\":\"https://api.loganalytics.io/v1\"}},\"Subscription\":{\"Id\":\"88a99f8e-abc3-4f87-b5d1-6582ecf72501\",\"Name\":\"PAYG-01\",\"State\":\"Enabled\",\"ExtendedProperties\":{\"SubscriptionPolices\":\"{\\\"locationPlacementId\\\":\\\"Public_2014-09-01\\\",\\\"quotaId\\\":\\\"PayAsYouGo_2014-09-01\\\",\\\"spendingLimit\\\":\\\"Off\\\"}\",\"AuthorizationSource\":\"RoleBased\",\"HomeTenant\":\"f82b557d-79f8-4f75-8cfe-96847cd44a6a\",\"Environment\":\"AzureCloud\",\"Tenants\":\"f82b557d-79f8-4f75-8cfe-96847cd44a6a\",\"Account\":\"piotr@demo.wachulec.me\"}},\"Tenant\":{\"Id\":\"f82b557d-79f8-4f75-8cfe-96847cd44a6a\",\"ExtendedProperties\":{}},\"ExtendedProperties\":{}}\n"
     ]
    }
   ],
   "source": [
    "using System.Text.Json;\n",
    "var deserialized = JsonSerializer.Deserialize<object>(contCS);\n",
    "Console.WriteLine(deserialized);"
   ]
  }
 ],
 "metadata": {
  "kernelspec": {
   "display_name": ".NET (PowerShell)",
   "language": "PowerShell",
   "name": ".net-powershell"
  },
  "language_info": {
   "file_extension": ".ps1",
   "mimetype": "text/x-powershell",
   "name": "PowerShell",
   "pygments_lexer": "powershell",
   "version": "7.0"
  },
  "polyglot_notebook": {
   "kernelInfo": {
    "defaultKernelName": "powershell",
    "items": [
     {
      "aliases": [],
      "name": "powershell"
     }
    ]
   }
  }
 },
 "nbformat": 4,
 "nbformat_minor": 5
}
