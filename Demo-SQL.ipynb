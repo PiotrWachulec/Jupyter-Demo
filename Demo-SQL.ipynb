{
    "metadata": {
        "kernelspec": {
            "name": "SQL",
            "display_name": "SQL",
            "language": "sql"
        },
        "language_info": {
            "name": "sql",
            "version": ""
        }
    },
    "nbformat_minor": 2,
    "nbformat": 4,
    "cells": [
        {
            "cell_type": "code",
            "source": [
                "SELECT * FROM dbo.ExampleTable;"
            ],
            "metadata": {
                "azdata_cell_guid": "32fe83e9-5fb3-48dc-84eb-5c6c8aa41674",
                "language": "sql"
            },
            "outputs": [
                {
                    "output_type": "display_data",
                    "data": {
                        "text/html": "(4 rows affected)"
                    },
                    "metadata": {}
                },
                {
                    "output_type": "display_data",
                    "data": {
                        "text/html": "Total execution time: 00:00:00.013"
                    },
                    "metadata": {}
                },
                {
                    "output_type": "execute_result",
                    "execution_count": 1,
                    "data": {
                        "application/vnd.dataresource+json": {
                            "schema": {
                                "fields": [
                                    {
                                        "name": "ID"
                                    },
                                    {
                                        "name": "Name"
                                    },
                                    {
                                        "name": "Age"
                                    },
                                    {
                                        "name": "Email"
                                    }
                                ]
                            },
                            "data": [
                                {
                                    "ID": "1",
                                    "Name": "John Doe",
                                    "Age": "25",
                                    "Email": "john.doe@example.com"
                                },
                                {
                                    "ID": "2",
                                    "Name": "Jane Smith",
                                    "Age": "30",
                                    "Email": "jane.smith@example.com"
                                },
                                {
                                    "ID": "3",
                                    "Name": "Bob Johnson",
                                    "Age": "28",
                                    "Email": "bob.johnson@example.com"
                                },
                                {
                                    "ID": "4",
                                    "Name": "Alice Williams",
                                    "Age": "22",
                                    "Email": "alice.williams@example.com"
                                }
                            ]
                        },
                        "text/html": "<table><tr><th>ID</th><th>Name</th><th>Age</th><th>Email</th></tr><tr><td>1</td><td>John Doe</td><td>25</td><td>john.doe@example.com</td></tr><tr><td>2</td><td>Jane Smith</td><td>30</td><td>jane.smith@example.com</td></tr><tr><td>3</td><td>Bob Johnson</td><td>28</td><td>bob.johnson@example.com</td></tr><tr><td>4</td><td>Alice Williams</td><td>22</td><td>alice.williams@example.com</td></tr></table>"
                    },
                    "metadata": {}
                }
            ],
            "execution_count": 1
        },
        {
            "cell_type": "code",
            "source": [
                "INSERT INTO ExampleTable (ID, Name, Age, Email)\n",
                "VALUES\n",
                "    (5, 'Piotr Wachulec', 28, 'piotr@wachulec.me');"
            ],
            "metadata": {
                "azdata_cell_guid": "5d945b6d-edce-40f2-9589-18d9f5558a8e",
                "language": "sql"
            },
            "outputs": [
                {
                    "output_type": "display_data",
                    "data": {
                        "text/html": "(1 row affected)"
                    },
                    "metadata": {}
                },
                {
                    "output_type": "display_data",
                    "data": {
                        "text/html": "Total execution time: 00:00:00.018"
                    },
                    "metadata": {}
                }
            ],
            "execution_count": 2
        },
        {
            "cell_type": "code",
            "source": [
                "SELECT Name, Age FROM dbo.ExampleTable;"
            ],
            "metadata": {
                "azdata_cell_guid": "9da43bb8-d0fb-41b8-980e-15074821e1c0",
                "language": "sql"
            },
            "outputs": [
                {
                    "output_type": "display_data",
                    "data": {
                        "text/html": "(5 rows affected)"
                    },
                    "metadata": {}
                },
                {
                    "output_type": "display_data",
                    "data": {
                        "text/html": "Total execution time: 00:00:00.037"
                    },
                    "metadata": {}
                },
                {
                    "output_type": "execute_result",
                    "metadata": {},
                    "execution_count": 1,
                    "data": {
                        "application/vnd.dataresource+json": {
                            "schema": {
                                "fields": [
                                    {
                                        "name": "Name"
                                    },
                                    {
                                        "name": "Age"
                                    }
                                ]
                            },
                            "data": [
                                {
                                    "Name": "John Doe",
                                    "Age": "25"
                                },
                                {
                                    "Name": "Jane Smith",
                                    "Age": "30"
                                },
                                {
                                    "Name": "Bob Johnson",
                                    "Age": "28"
                                },
                                {
                                    "Name": "Alice Williams",
                                    "Age": "22"
                                },
                                {
                                    "Name": "Piotr Wachulec",
                                    "Age": "28"
                                }
                            ]
                        },
                        "text/html": [
                            "<table>",
                            "<tr><th>Name</th><th>Age</th></tr>",
                            "<tr><td>John Doe</td><td>25</td></tr>",
                            "<tr><td>Jane Smith</td><td>30</td></tr>",
                            "<tr><td>Bob Johnson</td><td>28</td></tr>",
                            "<tr><td>Alice Williams</td><td>22</td></tr>",
                            "<tr><td>Piotr Wachulec</td><td>28</td></tr>",
                            "</table>"
                        ]
                    }
                }
            ],
            "execution_count": 1
        },
        {
            "cell_type": "code",
            "source": [
                "SELECT Name, Age FROM dbo.ExampleTable;"
            ],
            "metadata": {
                "azdata_cell_guid": "283c9af3-5131-464c-9c8d-e7f935ae80ea",
                "language": "sql"
            },
            "outputs": [
                {
                    "output_type": "display_data",
                    "data": {
                        "text/html": "(5 rows affected)"
                    },
                    "metadata": {}
                },
                {
                    "output_type": "display_data",
                    "data": {
                        "text/html": "Total execution time: 00:00:00.010"
                    },
                    "metadata": {}
                },
                {
                    "output_type": "execute_result",
                    "metadata": {
                        "azdata_chartOptions": {
                            "type": "bar",
                            "dataDirection": "horizontal",
                            "columnsAsLabels": true,
                            "labelFirstColumn": true,
                            "legendPosition": "top"
                        }
                    },
                    "execution_count": 2,
                    "data": {
                        "application/vnd.dataresource+json": {
                            "schema": {
                                "fields": [
                                    {
                                        "name": "Name"
                                    },
                                    {
                                        "name": "Age"
                                    }
                                ]
                            },
                            "data": [
                                {
                                    "Name": "John Doe",
                                    "Age": "25"
                                },
                                {
                                    "Name": "Jane Smith",
                                    "Age": "30"
                                },
                                {
                                    "Name": "Bob Johnson",
                                    "Age": "28"
                                },
                                {
                                    "Name": "Alice Williams",
                                    "Age": "22"
                                },
                                {
                                    "Name": "Piotr Wachulec",
                                    "Age": "28"
                                }
                            ]
                        },
                        "text/html": [
                            "<table>",
                            "<tr><th>Name</th><th>Age</th></tr>",
                            "<tr><td>John Doe</td><td>25</td></tr>",
                            "<tr><td>Jane Smith</td><td>30</td></tr>",
                            "<tr><td>Bob Johnson</td><td>28</td></tr>",
                            "<tr><td>Alice Williams</td><td>22</td></tr>",
                            "<tr><td>Piotr Wachulec</td><td>28</td></tr>",
                            "</table>"
                        ]
                    }
                }
            ],
            "execution_count": 2
        }
    ]
}